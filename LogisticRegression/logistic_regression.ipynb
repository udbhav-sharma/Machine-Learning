{
 "cells": [
  {
   "cell_type": "markdown",
   "metadata": {},
   "source": [
    "## Logistic Regression with SGD"
   ]
  },
  {
   "cell_type": "markdown",
   "metadata": {},
   "source": [
    "To begin you first need to install all dependencies, using:\n",
    "\n",
    "    pip install -r requirements.txt"
   ]
  },
  {
   "cell_type": "code",
   "execution_count": 1,
   "metadata": {},
   "outputs": [],
   "source": [
    "import numpy as np\n",
    "import matplotlib.pyplot as plt\n",
    "\n",
    "from math import exp, log, ceil\n",
    "import os\n",
    "import pickle\n",
    "import sys\n",
    "\n",
    "from skimage import io\n",
    "from skimage.color import rgb2gray\n",
    "from skimage.feature import hog\n",
    "\n",
    "from sklearn.metrics import accuracy_score\n",
    "from sklearn.metrics import precision_recall_curve\n",
    "from sklearn.metrics import roc_curve\n",
    "from sklearn.metrics import auc\n",
    "from sklearn.metrics import average_precision_score\n",
    "from sklearn.utils.fixes import signature"
   ]
  },
  {
   "cell_type": "code",
   "execution_count": 2,
   "metadata": {},
   "outputs": [],
   "source": [
    "%matplotlib inline"
   ]
  },
  {
   "cell_type": "markdown",
   "metadata": {},
   "source": [
    "### load the dataset"
   ]
  },
  {
   "cell_type": "code",
   "execution_count": 3,
   "metadata": {},
   "outputs": [],
   "source": [
    "### set your image dir here\n",
    "IMAGE_DIR = \"./data/\""
   ]
  },
  {
   "cell_type": "code",
   "execution_count": 4,
   "metadata": {},
   "outputs": [],
   "source": [
    "def load_dataset(subset=\"train\"):\n",
    "    \"\"\"\n",
    "    1. subset = \"train\", \"val\", \"test\"\n",
    "    2. About the dataset: in \"train\",\"val\" subset, the first half of images are images of hands, the rest half are images of not-hand. \n",
    "    3. extract features from HoG\n",
    "    \"\"\"\n",
    "    path = os.path.join(IMAGE_DIR,subset)\n",
    "    name_list = os.listdir(path)\n",
    "    print(\"Number of images in {}-set: {}\".format(subset, len(name_list)))\n",
    "    #HoG returns 324 features\n",
    "    X = np.zeros(shape=(len(name_list), 324))\n",
    "\n",
    "    if subset == \"train\" or subset == \"val\":\n",
    "        #Make sure that we have equal number of positive and negative class images\n",
    "        assert len(name_list)%2 == 0\n",
    "        count = len(name_list)//2\n",
    "        y = np.array(count*[1] + count*[0])\n",
    "        for idx_true in range(count):\n",
    "            img_name = os.path.join(path,str(idx_true)+\".png\")\n",
    "            img = io.imread(img_name)\n",
    "            img = rgb2gray(img)\n",
    "            vec = hog(img)\n",
    "            X[idx_true, :] = vec\n",
    "        \n",
    "        for idx in range(count):\n",
    "            idx_false = idx + count\n",
    "            img_name = os.path.join(path,str(idx_false)+\".png\")\n",
    "            img = io.imread(img_name)\n",
    "            img = rgb2gray(img)\n",
    "            vec = hog(img)\n",
    "            X[idx_false, :] = vec\n",
    "        return X, y        \n",
    "    else:\n",
    "        for idx in range(len(name_list)):\n",
    "            img_name = os.path.join(path, str(idx)+\".png\")\n",
    "            img = io.imread(img_name)\n",
    "            img = rgb2gray(img)\n",
    "            vec = hog(img)\n",
    "            X[idx, :] = vec\n",
    "        return X"
   ]
  },
  {
   "cell_type": "markdown",
   "metadata": {},
   "source": [
    "### load the data"
   ]
  },
  {
   "cell_type": "code",
   "execution_count": 5,
   "metadata": {},
   "outputs": [
    {
     "name": "stdout",
     "output_type": "stream",
     "text": [
      "Number of images in train-set: 8170\n"
     ]
    },
    {
     "name": "stderr",
     "output_type": "stream",
     "text": [
      "/anaconda3/lib/python3.6/site-packages/skimage/feature/_hog.py:119: skimage_deprecation: Default value of `block_norm`==`L1` is deprecated and will be changed to `L2-Hys` in v0.15\n",
      "  'be changed to `L2-Hys` in v0.15', skimage_deprecation)\n"
     ]
    },
    {
     "name": "stdout",
     "output_type": "stream",
     "text": [
      "Number of images in val-set: 2724\n",
      "Number of images in test-set: 5542\n"
     ]
    }
   ],
   "source": [
    "X_train, y_train = load_dataset(\"train\")\n",
    "X_val, y_val = load_dataset(\"val\")\n",
    "X_test = load_dataset(\"test\")"
   ]
  },
  {
   "cell_type": "markdown",
   "metadata": {},
   "source": [
    "### displaying images"
   ]
  },
  {
   "cell_type": "code",
   "execution_count": 6,
   "metadata": {},
   "outputs": [],
   "source": [
    "def display(img_path):\n",
    "    \"\"\"\n",
    "    visualize the img\n",
    "    \"\"\"\n",
    "    img = io.imread(img_path)\n",
    "    print(img_path)\n",
    "    io.imshow(img)\n",
    "    io.show()"
   ]
  },
  {
   "cell_type": "code",
   "execution_count": 7,
   "metadata": {},
   "outputs": [
    {
     "name": "stdout",
     "output_type": "stream",
     "text": [
      "./data/train/1.png\n"
     ]
    },
    {
     "name": "stderr",
     "output_type": "stream",
     "text": [
      "/anaconda3/lib/python3.6/site-packages/skimage/io/_plugins/matplotlib_plugin.py:51: FutureWarning: Conversion of the second argument of issubdtype from `float` to `np.floating` is deprecated. In future, it will be treated as `np.float64 == np.dtype(float).type`.\n",
      "  out_of_range_float = (np.issubdtype(image.dtype, np.float) and\n",
      "/anaconda3/lib/python3.6/site-packages/matplotlib/axes/_base.py:1400: MatplotlibDeprecationWarning: The 'box-forced' keyword argument is deprecated since 2.2.\n",
      "  \" since 2.2.\", cbook.mplDeprecation)\n"
     ]
    },
    {
     "data": {
      "image/png": "[encoded data removed]",
      "text/plain": [
       "<Figure size 432x288 with 1 Axes>"
      ]
     },
     "metadata": {},
     "output_type": "display_data"
    }
   ],
   "source": [
    "display(IMAGE_DIR+\"train/1.png\")"
   ]
  },
  {
   "cell_type": "markdown",
   "metadata": {},
   "source": [
    "### Logistic regression"
   ]
  },
  {
   "cell_type": "markdown",
   "metadata": {},
   "source": [
    "#### Main function in the class\n",
    "1. \\__init\\__() which sets the hyper parameters\n",
    "2. sigmoid()\n",
    "3. __init_param(), initializes the parameters .\n",
    "4. fit(): train the data\n",
    "5. predict_proba(): predict the probability of the sample belonging to the positive class\n",
    "6. predict(): classify the sample\n",
    "\n",
    "\n",
    "Feel free to overlook the rest of the parts of the code, it's just for convenience.\n"
   ]
  },
  {
   "cell_type": "code",
   "execution_count": 8,
   "metadata": {},
   "outputs": [],
   "source": [
    "class LogisticRegression:\n",
    "    \"\"\"\n",
    "    Logistic Regression\n",
    "    \"\"\"\n",
    "    def __init__(self, eta0=0.1, eta1=1, m=16, max_epoch=1000, delta=0.0001):\n",
    "        \"\"\"\n",
    "        m is the batch_size\n",
    "        \"\"\"\n",
    "        self.__init = True # whether to initial the parameters\n",
    "        self.__eta0 = eta0\n",
    "        self.__eta1 = eta1\n",
    "        self.__delta = delta\n",
    "        self.__m = m\n",
    "        self.__max_epoch = max_epoch\n",
    "        \n",
    "    def sigmoid(self, x):\n",
    "        return 1.0 / (1 + np.exp(-x))\n",
    "    \n",
    "    def __init_param(self):\n",
    "        \"\"\"\n",
    "        Weights initialized using a normal distribution here: you can change the distribution.\n",
    "        \"\"\"\n",
    "        d = self.__dimension\n",
    "        self.__wt = np.random.randn(1,d)\n",
    "        self.__bias = np.random.randn()\n",
    "        \n",
    "        return self.__wt,self.__bias\n",
    "        \n",
    "    def loss(self, y, X):\n",
    "        n = len(y)\n",
    "        h = np.dot(X, self.__wt) + self.__bias\n",
    "        \n",
    "        return (-1/n)*(np.dot(np.transpose(y), h) - np.sum(np.log(1 + np.exp(h))))\n",
    "                \n",
    "    def fit(self, X, y, X_val=None, y_val=None):\n",
    "        \"\"\"\n",
    "        Recommended input:\n",
    "        X: n x d array,\n",
    "        y: n x 1 array or list\n",
    "        \"\"\"\n",
    "        n, d = X.shape\n",
    "        self.__dimension = d\n",
    "        \n",
    "        if self.__init:\n",
    "            self.__init_param()\n",
    "        \n",
    "        ### write your code here ### \n",
    "\n",
    "        ############################\n",
    "        \n",
    "        y = np.reshape(y, (len(y), 1))\n",
    "        \n",
    "        if y_val is not None:\n",
    "            y_val = np.reshape(y_val, (len(y_val), 1))\n",
    "        \n",
    "        X_ones = np.hstack((X, np.ones(n).reshape(n, 1)))\n",
    "                \n",
    "        wt = self.__wt\n",
    "        wt = np.reshape(np.append(wt, self.__bias), (d + 1, 1))\n",
    "        \n",
    "        epoch_loss = []\n",
    "        epoch_loss_val = []\n",
    "        \n",
    "        accuracy = []\n",
    "        accuracy_val = []\n",
    "        \n",
    "        for epoch in range(1, self.__max_epoch + 1):            \n",
    "            eta = self.__eta0 / (self.__eta1 + epoch)\n",
    "            \n",
    "            idx_arr = np.arange(n)\n",
    "            idx_arr = np.random.permutation(idx_arr)\n",
    "            \n",
    "            batches = np.array_split(idx_arr, ceil((n*1.0)/self.__m))\n",
    "            \n",
    "            for batch in batches:\n",
    "                y_batch = y[batch]\n",
    "                X_batch = X_ones[batch,:]\n",
    "                \n",
    "                h = self.sigmoid(np.dot(X_batch, wt))\n",
    "                \n",
    "                derivative = np.dot(np.transpose(X_batch), (y_batch - h)) / len(batch)\n",
    "\n",
    "                wt = wt + (eta * derivative)\n",
    "                            \n",
    "            self.__wt = wt[:-1]\n",
    "            self.__bias = wt[-1]\n",
    "            \n",
    "            epoch_loss.append(self.loss(y, X).item(0, 0))                    \n",
    "            accuracy.append(self.accuracy(y, self.predict(X)))\n",
    "            \n",
    "            if X_val is not None:\n",
    "                epoch_loss_val.append(self.loss(y_val, X_val).item(0))\n",
    "                accuracy_val.append(self.accuracy(y_val, self.predict(X_val)))\n",
    "            \n",
    "            if epoch > 1 and epoch_loss[epoch - 1] > (1 - self.__delta) * epoch_loss[epoch - 2]:\n",
    "                break\n",
    "        \n",
    "        return epoch, epoch_loss, epoch_loss_val, accuracy, accuracy_val\n",
    "    \n",
    "    def predict_proba(self, X):\n",
    "        \"\"\"\n",
    "        predict the probility of the sample\n",
    "        You can refer to my code below\n",
    "        \"\"\"\n",
    "                        \n",
    "        return self.sigmoid(np.dot(X, self.__wt) + self.__bias)\n",
    "    \n",
    "    def predict(self, X):\n",
    "        \"\"\"\n",
    "        Classify the sample\n",
    "        \"\"\"\n",
    "\n",
    "        return self.predict_proba(X) >= 0.5\n",
    "    \n",
    "    def get_param(self):\n",
    "        \"\"\"\n",
    "        output:\n",
    "            parameters: wt(1*d array), b(scalar)\n",
    "        \"\"\"\n",
    "        return [self.__wt, self.__bias]\n",
    "    \n",
    "    def save_model(self, save_file):\n",
    "        \"\"\"\n",
    "        save model to .pkl file\n",
    "        \"\"\"\n",
    "        with open(save_file,\"wb\") as file:\n",
    "            pickle.dump([self.__wt, self.__bias],file)\n",
    "            \n",
    "    def accuracy(self, y, y_pred):\n",
    "        if len(y) != len(y_pred):\n",
    "            raise ValueError('y and y_pred should have same size')\n",
    "        \n",
    "        #return np.sum((y == y_pred) / len(y)) * 100\n",
    "        return accuracy_score(y, y_pred)\n",
    "\n",
    "    def load_model(self, load_file):\n",
    "        \"\"\"\n",
    "        load model from .pkl file\n",
    "        \"\"\"\n",
    "        with open(load_file,\"rb\") as file:\n",
    "            param = pickle.load(file)\n",
    "        self.__wt = param[0]\n",
    "        self.__bias = param[1]\n",
    "        self.__init = False\n",
    "        return self.__wt, self.__bias"
   ]
  },
  {
   "cell_type": "markdown",
   "metadata": {},
   "source": [
    "## Question 2.3"
   ]
  },
  {
   "cell_type": "markdown",
   "metadata": {
    "scrolled": true
   },
   "source": [
    "### 1. Baseline Model"
   ]
  },
  {
   "cell_type": "code",
   "execution_count": 9,
   "metadata": {
    "scrolled": true
   },
   "outputs": [
    {
     "name": "stdout",
     "output_type": "stream",
     "text": [
      "Epoch: 348\n",
      "Final L(theta): 0.513332\n"
     ]
    }
   ],
   "source": [
    "LR = LogisticRegression()\n",
    "epoch, epoch_loss, _, accuracy, _ = LR.fit(X_train, y_train, X_val, y_val)\n",
    "\n",
    "print(\"Epoch: %d\" % (epoch))\n",
    "print(\"Final L(theta): %f\" % (epoch_loss[-1]))"
   ]
  },
  {
   "cell_type": "markdown",
   "metadata": {},
   "source": [
    "(a) Number of epochs till termination = 348"
   ]
  },
  {
   "cell_type": "code",
   "execution_count": 10,
   "metadata": {},
   "outputs": [
    {
     "data": {
      "image/png": "[encoded data removed]",
      "text/plain": [
       "<Figure size 432x288 with 1 Axes>"
      ]
     },
     "metadata": {},
     "output_type": "display_data"
    }
   ],
   "source": [
    "# (b) Plot L(theta) vs num_epochs\n",
    "plt.plot(np.arange(epoch) + 1, epoch_loss)\n",
    "plt.xlabel('Epoch value')\n",
    "plt.ylabel('L(theta)')\n",
    "plt.show()"
   ]
  },
  {
   "cell_type": "markdown",
   "metadata": {},
   "source": [
    "(c) Final value of L($\\theta$) after optimization = 0.513332"
   ]
  },
  {
   "cell_type": "markdown",
   "metadata": {},
   "source": [
    "### 2. Experimenting with ($\\eta_0$,$\\eta_1$)"
   ]
  },
  {
   "cell_type": "code",
   "execution_count": 30,
   "metadata": {},
   "outputs": [
    {
     "name": "stdout",
     "output_type": "stream",
     "text": [
      "eta0: 10.000000 eta1: 10.000000 epoch: 16 L: 0.309245 acurracy: 0.868788\n",
      "eta0: 10.000000 eta1: 5.000000 epoch: 21 L: 0.290944 acurracy: 0.887882\n",
      "eta0: 10.000000 eta1: 1.000000 epoch: 9 L: 0.282127 acurracy: 0.889963\n",
      "eta0: 10.000000 eta1: 0.500000 epoch: 11 L: 0.275830 acurracy: 0.892166\n",
      "eta0: 10.000000 eta1: 0.100000 epoch: 11 L: 0.272487 acurracy: 0.889718\n",
      "eta0: 10.000000 eta1: 0.050000 epoch: 4 L: 0.285211 acurracy: 0.886536\n",
      "eta0: 10.000000 eta1: 0.010000 epoch: 5 L: 0.287514 acurracy: 0.876255\n",
      "eta0: 5.000000 eta1: 10.000000 epoch: 51 L: 0.307055 acurracy: 0.878213\n",
      "eta0: 5.000000 eta1: 5.000000 epoch: 24 L: 0.307579 acurracy: 0.881028\n",
      "eta0: 5.000000 eta1: 1.000000 epoch: 15 L: 0.297123 acurracy: 0.886169\n",
      "eta0: 5.000000 eta1: 0.500000 epoch: 6 L: 0.309374 acurracy: 0.883966\n",
      "eta0: 5.000000 eta1: 0.100000 epoch: 3 L: 0.337449 acurracy: 0.863770\n",
      "eta0: 5.000000 eta1: 0.050000 epoch: 10 L: 0.290464 acurracy: 0.888862\n",
      "eta0: 5.000000 eta1: 0.010000 epoch: 8 L: 0.295564 acurracy: 0.878703\n",
      "eta0: 1.000000 eta1: 10.000000 epoch: 456 L: 0.348050 acurracy: 0.868176\n",
      "eta0: 1.000000 eta1: 5.000000 epoch: 400 L: 0.345482 acurracy: 0.868911\n",
      "eta0: 1.000000 eta1: 1.000000 epoch: 296 L: 0.328996 acurracy: 0.871481\n",
      "eta0: 1.000000 eta1: 0.500000 epoch: 273 L: 0.326403 acurracy: 0.875398\n",
      "eta0: 1.000000 eta1: 0.100000 epoch: 254 L: 0.324107 acurracy: 0.873317\n",
      "eta0: 1.000000 eta1: 0.050000 epoch: 254 L: 0.323780 acurracy: 0.875153\n",
      "eta0: 1.000000 eta1: 0.010000 epoch: 251 L: 0.324819 acurracy: 0.872827\n",
      "eta0: 0.500000 eta1: 10.000000 epoch: 526 L: 0.399761 acurracy: 0.854223\n",
      "eta0: 0.500000 eta1: 5.000000 epoch: 436 L: 0.385259 acurracy: 0.859608\n",
      "eta0: 0.500000 eta1: 1.000000 epoch: 339 L: 0.369078 acurracy: 0.863035\n",
      "eta0: 0.500000 eta1: 0.500000 epoch: 316 L: 0.367018 acurracy: 0.859976\n",
      "eta0: 0.500000 eta1: 0.100000 epoch: 312 L: 0.366951 acurracy: 0.863158\n",
      "eta0: 0.500000 eta1: 0.050000 epoch: 296 L: 0.364388 acurracy: 0.863158\n",
      "eta0: 0.500000 eta1: 0.010000 epoch: 302 L: 0.362119 acurracy: 0.864504\n",
      "eta0: 0.100000 eta1: 10.000000 epoch: 391 L: 0.533777 acurracy: 0.789963\n",
      "eta0: 0.100000 eta1: 5.000000 epoch: 406 L: 0.533637 acurracy: 0.804162\n",
      "eta0: 0.100000 eta1: 1.000000 epoch: 371 L: 0.514644 acurracy: 0.813831\n",
      "eta0: 0.100000 eta1: 0.500000 epoch: 384 L: 0.527843 acurracy: 0.801346\n",
      "eta0: 0.100000 eta1: 0.100000 epoch: 301 L: 0.491074 acurracy: 0.826683\n",
      "eta0: 0.100000 eta1: 0.050000 epoch: 303 L: 0.496578 acurracy: 0.817625\n",
      "eta0: 0.100000 eta1: 0.010000 epoch: 331 L: 0.501336 acurracy: 0.822644\n",
      "eta0: 0.050000 eta1: 10.000000 epoch: 282 L: 0.597022 acurracy: 0.735129\n",
      "eta0: 0.050000 eta1: 5.000000 epoch: 302 L: 0.603335 acurracy: 0.729988\n",
      "eta0: 0.050000 eta1: 1.000000 epoch: 316 L: 0.596009 acurracy: 0.756059\n",
      "eta0: 0.050000 eta1: 0.500000 epoch: 272 L: 0.577593 acurracy: 0.764871\n",
      "eta0: 0.050000 eta1: 0.100000 epoch: 254 L: 0.564630 acurracy: 0.789474\n",
      "eta0: 0.050000 eta1: 0.050000 epoch: 267 L: 0.582634 acurracy: 0.745043\n",
      "eta0: 0.050000 eta1: 0.010000 epoch: 285 L: 0.586670 acurracy: 0.757283\n",
      "eta0: 0.010000 eta1: 10.000000 epoch: 77 L: 0.648751 acurracy: 0.632191\n",
      "eta0: 0.010000 eta1: 5.000000 epoch: 112 L: 0.706038 acurracy: 0.483476\n",
      "eta0: 0.010000 eta1: 1.000000 epoch: 76 L: 0.681581 acurracy: 0.563892\n",
      "eta0: 0.010000 eta1: 0.500000 epoch: 94 L: 0.709627 acurracy: 0.491065\n",
      "eta0: 0.010000 eta1: 0.100000 epoch: 108 L: 0.750656 acurracy: 0.390942\n",
      "eta0: 0.010000 eta1: 0.050000 epoch: 108 L: 0.732611 acurracy: 0.428397\n",
      "eta0: 0.010000 eta1: 0.010000 epoch: 58 L: 0.615053 acurracy: 0.674051\n"
     ]
    }
   ],
   "source": [
    "# Experimentation code goes here\n",
    "eta0_list = [10, 5, 1, 0.5, 0.1, 0.05, 0.01]\n",
    "eta1_list = [10, 5, 1, 0.5, 0.1, 0.05, 0.01]\n",
    "\n",
    "min_epoch = sys.maxsize\n",
    "min_epoch_loss = [sys.maxsize]\n",
    "best_eta0 = sys.maxsize\n",
    "best_eta1 = sys.maxsize\n",
    "\n",
    "for eta0 in eta0_list:\n",
    "    for eta1 in eta1_list:\n",
    "        LR = LogisticRegression(eta0 = eta0, eta1 = eta1)\n",
    "        epoch, loss, _, accuracy, _ = LR.fit(X_train, y_train)\n",
    "\n",
    "        print(\"eta0: %f eta1: %f epoch: %d L: %f acurracy: %f\" % (eta0, eta1, epoch, loss[-1], accuracy[-1]))\n",
    "        \n",
    "        if min_epoch > epoch:\n",
    "            min_epoch = epoch\n",
    "            min_epoch_loss = loss\n",
    "            best_eta0 = eta0\n",
    "            best_eta1 = eta1"
   ]
  },
  {
   "cell_type": "code",
   "execution_count": 27,
   "metadata": {},
   "outputs": [
    {
     "name": "stdout",
     "output_type": "stream",
     "text": [
      "Min Epoch: 4\n",
      "Loss: 0.290057\n",
      "Best eta0: 10.000000\n",
      "Best eta1: 0.500000\n"
     ]
    }
   ],
   "source": [
    "print(\"Min Epoch: %d\\nLoss: %f\\nBest eta0: %f\\nBest eta1: %f\" % (min_epoch, min_epoch_loss[-1], best_eta0, best_eta1))"
   ]
  },
  {
   "cell_type": "markdown",
   "metadata": {},
   "source": [
    "(a) Best value for, $\\eta_0$ = 10, $\\eta_1$ = 0.5\n",
    "\n",
    "Number of epochs for training = 4\n",
    "\n",
    "Final value of L($\\theta$) = 0.290057"
   ]
  },
  {
   "cell_type": "code",
   "execution_count": 28,
   "metadata": {},
   "outputs": [
    {
     "data": {
      "image/png": "[encoded data removed]",
      "text/plain": [
       "<Figure size 432x288 with 1 Axes>"
      ]
     },
     "metadata": {},
     "output_type": "display_data"
    }
   ],
   "source": [
    "# (b) For best (eta_0, eta_1) plot L(theta) vs num_epochs\n",
    "plt.plot(np.arange(min_epoch) + 1, min_epoch_loss)\n",
    "plt.xlabel('Epoch value')\n",
    "plt.ylabel('L(theta)')\n",
    "plt.show()"
   ]
  },
  {
   "cell_type": "markdown",
   "metadata": {},
   "source": [
    "### 3. Evaluating on validation set"
   ]
  },
  {
   "cell_type": "code",
   "execution_count": 14,
   "metadata": {},
   "outputs": [],
   "source": [
    "LR_val = LogisticRegression()\n",
    "epoch, epoch_loss, epoch_loss_val, accuracy, accuracy_val = LR_val.fit(X_train, y_train, X_val, y_val)"
   ]
  },
  {
   "cell_type": "code",
   "execution_count": 15,
   "metadata": {},
   "outputs": [
    {
     "data": {
      "text/plain": [
       "<matplotlib.legend.Legend at 0x1c192fad30>"
      ]
     },
     "execution_count": 15,
     "metadata": {},
     "output_type": "execute_result"
    },
    {
     "data": {
      "image/png": "[encoded data removed]",
      "text/plain": [
       "<Figure size 432x288 with 1 Axes>"
      ]
     },
     "metadata": {},
     "output_type": "display_data"
    }
   ],
   "source": [
    "# (a) Plot L(theta) vs num_epochs for both training and validation set on the same figure\n",
    "plt.plot(np.arange(epoch) + 1, epoch_loss)\n",
    "plt.plot(np.arange(epoch) + 1, epoch_loss_val)\n",
    "\n",
    "plt.title(\"Loss function for logistic regression\")\n",
    "plt.xlabel(\"Epoch value\")\n",
    "plt.ylabel(\"L(theta)\")\n",
    "plt.legend(['Training Loss', 'Validation Loss'], loc = 'upper right')"
   ]
  },
  {
   "cell_type": "code",
   "execution_count": 16,
   "metadata": {},
   "outputs": [
    {
     "data": {
      "image/png": "[encoded data removed]",
      "text/plain": [
       "<Figure size 432x288 with 1 Axes>"
      ]
     },
     "metadata": {},
     "output_type": "display_data"
    }
   ],
   "source": [
    "# (b) Plot Accuracy vs num_epochs for both training and validation set on the same figure\n",
    "plt.plot(np.arange(epoch) + 1, accuracy)\n",
    "plt.plot(np.arange(epoch) + 1, accuracy_val)\n",
    "\n",
    "plt.title(\"Accuracy for logistic regression\")\n",
    "plt.xlabel(\"Epoch value\")\n",
    "plt.ylabel(\"Accuracy\")\n",
    "plt.legend(['Training Accuracy', 'Validation Accuracy'], loc = 'lower right')\n",
    "plt.show()"
   ]
  },
  {
   "cell_type": "markdown",
   "metadata": {},
   "source": [
    "### 4. ROC and Precision-Recall curves"
   ]
  },
  {
   "cell_type": "code",
   "execution_count": 17,
   "metadata": {},
   "outputs": [
    {
     "data": {
      "image/png": "[encoded data removed]",
      "text/plain": [
       "<Figure size 432x288 with 1 Axes>"
      ]
     },
     "metadata": {},
     "output_type": "display_data"
    }
   ],
   "source": [
    "#(a) Plot ROC curve on validation data\n",
    "fpr, tpr, _ = roc_curve(y_val, LR_val.predict_proba(X_val))\n",
    "roc_auc = auc(fpr, tpr)\n",
    "\n",
    "# Referred: https://stackoverflow.com/questions/25009284/how-to-plot-roc-curve-in-python\n",
    "plt.plot([0, 1], [0, 1],'r--')\n",
    "plt.step(fpr, tpr, 'b', label = 'AUC = %0.2f' % roc_auc)\n",
    "plt.ylabel('True positive rate')\n",
    "plt.xlabel('False Positive Rate')\n",
    "plt.title('ROC curve')\n",
    "plt.legend(loc = 'lower right')\n",
    "plt.show()"
   ]
  },
  {
   "cell_type": "markdown",
   "metadata": {},
   "source": [
    "Area under curve = 0.89"
   ]
  },
  {
   "cell_type": "code",
   "execution_count": 18,
   "metadata": {},
   "outputs": [
    {
     "data": {
      "text/plain": [
       "Text(0,0.5,'Precision')"
      ]
     },
     "execution_count": 18,
     "metadata": {},
     "output_type": "execute_result"
    },
    {
     "data": {
      "image/png": "[encoded data removed]",
      "text/plain": [
       "<Figure size 432x288 with 1 Axes>"
      ]
     },
     "metadata": {},
     "output_type": "display_data"
    }
   ],
   "source": [
    "#(a) Plot Precision-Recall curve on validation data\n",
    "precision, recall, thresholds = precision_recall_curve(y_val, LR_val.predict_proba(X_val))\n",
    "\n",
    "step_kwargs = ({'step': 'post'}\n",
    "               if 'step' in signature(plt.fill_between).parameters\n",
    "               else {})\n",
    "plt.step(recall, precision, color='b', alpha=0.2,\n",
    "         where='post')\n",
    "plt.fill_between(recall, precision, alpha=0.2, color='b', **step_kwargs)\n",
    "\n",
    "plt.xlabel('Recall')\n",
    "plt.ylabel('Precision')"
   ]
  },
  {
   "cell_type": "code",
   "execution_count": 29,
   "metadata": {},
   "outputs": [
    {
     "data": {
      "text/plain": [
       "0.8553070647559913"
      ]
     },
     "execution_count": 29,
     "metadata": {},
     "output_type": "execute_result"
    }
   ],
   "source": [
    "average_precision_score(y_val, LR_val.predict_proba(X_val))"
   ]
  },
  {
   "cell_type": "code",
   "execution_count": 21,
   "metadata": {},
   "outputs": [
    {
     "ename": "SyntaxError",
     "evalue": "invalid syntax (<ipython-input-21-43e65e942708>, line 1)",
     "output_type": "error",
     "traceback": [
      "\u001b[0;36m  File \u001b[0;32m\"<ipython-input-21-43e65e942708>\"\u001b[0;36m, line \u001b[0;32m1\u001b[0m\n\u001b[0;31m    Average Precision = 0.855307\u001b[0m\n\u001b[0m                    ^\u001b[0m\n\u001b[0;31mSyntaxError\u001b[0m\u001b[0;31m:\u001b[0m invalid syntax\n"
     ]
    }
   ],
   "source": [
    "Average Precision = 0.855307"
   ]
  },
  {
   "cell_type": "markdown",
   "metadata": {},
   "source": [
    "## Question 2.4"
   ]
  },
  {
   "cell_type": "markdown",
   "metadata": {},
   "source": [
    "### 1. Submission"
   ]
  },
  {
   "cell_type": "code",
   "execution_count": 22,
   "metadata": {},
   "outputs": [],
   "source": [
    "import pandas as pd\n",
    "def submission(y_pred):\n",
    "    \"\"\"\n",
    "    generate the submission.csv for kaggle\n",
    "    input args:\n",
    "        y_pred: 5542x1 array or list contains 5542 elements\n",
    "        \n",
    "    \"\"\"\n",
    "    save_file = pd.DataFrame(columns=[\"Id\",\"Class\"])\n",
    "    id = np.array([idx for idx in range(5542)])\n",
    "    save_file[\"Id\"] = id\n",
    "    save_file[\"Class\"]= y_pred\n",
    "    save_file.to_csv(\"submission.csv\",index=0)       "
   ]
  },
  {
   "cell_type": "markdown",
   "metadata": {},
   "source": [
    "#### Generate the submission.csv"
   ]
  },
  {
   "cell_type": "code",
   "execution_count": 23,
   "metadata": {},
   "outputs": [
    {
     "name": "stdout",
     "output_type": "stream",
     "text": [
      "Epoch Loss: 0.294471\n",
      "Accuracy: 0.877639\n"
     ]
    }
   ],
   "source": [
    "# code goes here\n",
    "LR = LogisticRegression(eta0 = 10, eta1 = 0.01, m = 4)\n",
    "epoch, epoch_loss, _, accuracy, _ = LR.fit(np.vstack((X_train, X_val)), np.hstack((y_train, y_val)))\n",
    "\n",
    "print(\"Epoch Loss: %f\" % (epoch_loss[-1]))\n",
    "print(\"Accuracy: %f\" % (accuracy[-1]))\n",
    "\n",
    "submission(LR.predict(X_test).astype(int))"
   ]
  },
  {
   "cell_type": "markdown",
   "metadata": {},
   "source": [
    "Best obtained accuracy on Public Leader-board = 88.704%"
   ]
  },
  {
   "cell_type": "code",
   "execution_count": null,
   "metadata": {},
   "outputs": [],
   "source": []
  }
 ],
 "metadata": {
  "kernelspec": {
   "display_name": "Python 3",
   "language": "python",
   "name": "python3"
  },
  "language_info": {
   "codemirror_mode": {
    "name": "ipython",
    "version": 3
   },
   "file_extension": ".py",
   "mimetype": "text/x-python",
   "name": "python",
   "nbconvert_exporter": "python",
   "pygments_lexer": "ipython3",
   "version": "3.6.5"
  }
 },
 "nbformat": 4,
 "nbformat_minor": 2
}
