{
  "nbformat": 4,
  "nbformat_minor": 0,
  "metadata": {
    "colab": {
      "name": "RNN_ActionClassify_final.ipynb",
      "version": "0.3.2",
      "provenance": [],
      "collapsed_sections": []
    },
    "kernelspec": {
      "name": "python3",
      "display_name": "Python 3"
    }
  },
  "cells": [
    {
      "metadata": {
        "id": "zfif8mKozErT",
        "colab_type": "text"
      },
      "cell_type": "markdown",
      "source": [
        "# Sequence Classification using Recurrent Neural Networks(RNN)\n",
        "In this homework, you will learn how to train a recurrent neural network for human action classification. RNN is designed handle sequential data. The network can incorporate both past history and current input. [This](http://colah.github.io/posts/2015-08-Understanding-LSTMs/) is a very good tutorial. You should read it before you start."
      ]
    },
    {
      "metadata": {
        "id": "UNTFEy9GvjTi",
        "colab_type": "code",
        "outputId": "32a5d28e-83a9-4050-acdf-88c049e0de9f",
        "colab": {
          "base_uri": "https://localhost:8080/",
          "height": 479
        }
      },
      "cell_type": "code",
      "source": [
        "!pip install h5py\n",
        "!pip install git+https://github.com/pytorch/tnt.git@master"
      ],
      "execution_count": 1,
      "outputs": [
        {
          "output_type": "stream",
          "text": [
            "Requirement already satisfied: h5py in /usr/local/lib/python3.6/dist-packages (2.8.0)\n",
            "Requirement already satisfied: numpy>=1.7 in /usr/local/lib/python3.6/dist-packages (from h5py) (1.14.6)\n",
            "Requirement already satisfied: six in /usr/local/lib/python3.6/dist-packages (from h5py) (1.11.0)\n",
            "Collecting git+https://github.com/pytorch/tnt.git@master\n",
            "  Cloning https://github.com/pytorch/tnt.git (to revision master) to /tmp/pip-req-build-h98cbv97\n",
            "Requirement already satisfied (use --upgrade to upgrade): torchnet==0.0.4 from git+https://github.com/pytorch/tnt.git@master in /usr/local/lib/python3.6/dist-packages\n",
            "Requirement already satisfied: torch in /usr/local/lib/python3.6/dist-packages (from torchnet==0.0.4) (1.0.0)\n",
            "Requirement already satisfied: six in /usr/local/lib/python3.6/dist-packages (from torchnet==0.0.4) (1.11.0)\n",
            "Requirement already satisfied: visdom in /usr/local/lib/python3.6/dist-packages (from torchnet==0.0.4) (0.1.8.5)\n",
            "Requirement already satisfied: requests in /usr/local/lib/python3.6/dist-packages (from visdom->torchnet==0.0.4) (2.18.4)\n",
            "Requirement already satisfied: websocket-client in /usr/local/lib/python3.6/dist-packages (from visdom->torchnet==0.0.4) (0.54.0)\n",
            "Requirement already satisfied: pillow in /usr/local/lib/python3.6/dist-packages (from visdom->torchnet==0.0.4) (4.0.0)\n",
            "Requirement already satisfied: torchfile in /usr/local/lib/python3.6/dist-packages (from visdom->torchnet==0.0.4) (0.1.0)\n",
            "Requirement already satisfied: pyzmq in /usr/local/lib/python3.6/dist-packages (from visdom->torchnet==0.0.4) (17.0.0)\n",
            "Requirement already satisfied: scipy in /usr/local/lib/python3.6/dist-packages (from visdom->torchnet==0.0.4) (1.1.0)\n",
            "Requirement already satisfied: tornado in /usr/local/lib/python3.6/dist-packages (from visdom->torchnet==0.0.4) (4.5.3)\n",
            "Requirement already satisfied: numpy>=1.8 in /usr/local/lib/python3.6/dist-packages (from visdom->torchnet==0.0.4) (1.14.6)\n",
            "Requirement already satisfied: idna<2.7,>=2.5 in /usr/local/lib/python3.6/dist-packages (from requests->visdom->torchnet==0.0.4) (2.6)\n",
            "Requirement already satisfied: chardet<3.1.0,>=3.0.2 in /usr/local/lib/python3.6/dist-packages (from requests->visdom->torchnet==0.0.4) (3.0.4)\n",
            "Requirement already satisfied: urllib3<1.23,>=1.21.1 in /usr/local/lib/python3.6/dist-packages (from requests->visdom->torchnet==0.0.4) (1.22)\n",
            "Requirement already satisfied: certifi>=2017.4.17 in /usr/local/lib/python3.6/dist-packages (from requests->visdom->torchnet==0.0.4) (2018.11.29)\n",
            "Requirement already satisfied: olefile in /usr/local/lib/python3.6/dist-packages (from pillow->visdom->torchnet==0.0.4) (0.46)\n",
            "Building wheels for collected packages: torchnet\n",
            "  Running setup.py bdist_wheel for torchnet ... \u001b[?25l-\b \b\\\b \bdone\n",
            "\u001b[?25h  Stored in directory: /tmp/pip-ephem-wheel-cache-d9fs5zym/wheels/17/05/ec/d05d051a225871af52bf504f5e8daf57704811b3c1850d0012\n",
            "Successfully built torchnet\n"
          ],
          "name": "stdout"
        }
      ]
    },
    {
      "metadata": {
        "id": "Vynr_PC7zErY",
        "colab_type": "code",
        "outputId": "6291cf0b-b19d-48dd-dd82-bf7b280a8882",
        "colab": {
          "base_uri": "https://localhost:8080/",
          "height": 34
        }
      },
      "cell_type": "code",
      "source": [
        "import os\n",
        "import numpy as np\n",
        "import h5py\n",
        "\n",
        "import torch\n",
        "import torch.nn as nn\n",
        "import torch.optim as optim\n",
        "from torch.autograd import Variable\n",
        "import torch.utils.data as DD\n",
        "import torchnet as tnt\n",
        "\n",
        "use_cuda = torch.cuda.is_available()\n",
        "print('use cuda: %s'%(use_cuda))\n",
        "FloatTensor = torch.cuda.FloatTensor if use_cuda else torch.FloatTensor\n",
        "LongTensor = torch.cuda.LongTensor if use_cuda else torch.LongTensor\n",
        "ByteTensor = torch.cuda.ByteTensor if use_cuda else torch.ByteTensor\n"
      ],
      "execution_count": 1,
      "outputs": [
        {
          "output_type": "stream",
          "text": [
            "use cuda: False\n"
          ],
          "name": "stdout"
        }
      ]
    },
    {
      "metadata": {
        "id": "EZHcMzyn93jL",
        "colab_type": "code",
        "outputId": "2dea41a5-5067-4477-d9c9-343a0eafe4af",
        "colab": {
          "base_uri": "https://localhost:8080/",
          "height": 34
        }
      },
      "cell_type": "code",
      "source": [
        "from google.colab import drive\n",
        "drive.mount('/content/gdrive', force_remount=True)"
      ],
      "execution_count": 2,
      "outputs": [
        {
          "output_type": "stream",
          "text": [
            "Mounted at /content/gdrive\n"
          ],
          "name": "stdout"
        }
      ]
    },
    {
      "metadata": {
        "id": "dP5Lhl6NzErW",
        "colab_type": "text"
      },
      "cell_type": "markdown",
      "source": [
        "## Setup\n",
        "Please make sure you have h5py and torchnet installed\n",
        "> pip install h5py\n",
        "\n",
        "> pip install git+https://github.com/pytorch/tnt.git@master\n"
      ]
    },
    {
      "metadata": {
        "id": "xbY3-go8zErf",
        "colab_type": "text"
      },
      "cell_type": "markdown",
      "source": [
        "## Dataset\n",
        "The data we are using is skeleton data, which indicates the 3D locations of body joints. In total, there are 25 body joints. It is collected by Kinect v2. To make it easier, each sequence have same number of frames. You need to classify 10 different actions. There are 2000 training sequences, 400 validation sequences, and 500 test sequences. Each sequence has 15 frames, each frame is a 75-dimension vector (3*25).\n",
        "\n",
        "For your convenience, we provide the dataloader for you.\n"
      ]
    },
    {
      "metadata": {
        "id": "8n2LXzh8zErh",
        "colab_type": "code",
        "colab": {}
      },
      "cell_type": "code",
      "source": [
        "class Dataset(DD.Dataset):\n",
        "    # subset can be: 'train', 'val', 'test'\n",
        "    def __init__(self, data_path, subset='train'):\n",
        "        super(Dataset, self).__init__()\n",
        "        self.data_path = os.path.join(data_path, '%s_data.h5'%subset)\n",
        "        self.subset = subset\n",
        "\n",
        "        with h5py.File(self.data_path) as f:\n",
        "            self.data = np.array(f['data'])\n",
        "\n",
        "        if subset != 'test':\n",
        "            self.label_path = os.path.join(data_path, '%s_label.h5'%subset)\n",
        "            with h5py.File(self.label_path) as f:\n",
        "                self.label = np.array(f['label'])\n",
        "\n",
        "        self.num_sequences = self.data.shape[0]\n",
        "        self.seq_len = self.data.shape[1]\n",
        "        self.n_dim = self.data.shape[2]\n",
        "\n",
        "    def __getitem__(self, index):\n",
        "        seq = self.data[index]\n",
        "        if self.subset != 'test':\n",
        "            label = int(self.label[index])\n",
        "            sample = {'seq': seq, 'label': label}\n",
        "        else:\n",
        "            sample = {'seq': seq}\n",
        "        return sample\n",
        "\n",
        "    def __len__(self):\n",
        "        return self.num_sequences\n",
        "\n",
        "trSet = Dataset('/content/gdrive/My Drive/data_2', subset='train')\n",
        "valSet = Dataset('/content/gdrive/My Drive/data_2', subset='val')\n",
        "tstSet = Dataset('/content/gdrive/My Drive/data_2', subset='test')\n",
        "\n",
        "batch_size = 50\n",
        "trLD = DD.DataLoader(trSet, batch_size=batch_size,\n",
        "       sampler=DD.sampler.RandomSampler(trSet),\n",
        "       num_workers=2, pin_memory=False)\n",
        "valLD = DD.DataLoader(valSet, batch_size=batch_size,\n",
        "       sampler=DD.sampler.SequentialSampler(valSet),\n",
        "       num_workers=1, pin_memory=False)\n",
        "tstLD = DD.DataLoader(tstSet, batch_size=batch_size,\n",
        "       sampler=DD.sampler.SequentialSampler(tstSet),\n",
        "       num_workers=1, pin_memory=False)\n",
        "\n",
        "input_dim = trSet.n_dim\n",
        "num_class = 10"
      ],
      "execution_count": 0,
      "outputs": []
    },
    {
      "metadata": {
        "id": "2__v_0OnzErj",
        "colab_type": "text"
      },
      "cell_type": "markdown",
      "source": [
        "## Model\n",
        "Pytorch has implemented different types of recurrent layers for you. For this homework, you can use any type of RNNs as you want:\n",
        "> torch.nn.RNN()\n",
        "\n",
        "> torch.nn.LSTM()\n",
        "\n",
        "> torch.nn.GRU()\n",
        "\n",
        "You can check details for different types of recurrent layers here: [RNN](http://pytorch.org/docs/master/nn.html#torch.nn.RNN), [LSTM]( http://pytorch.org/docs/master/nn.html#torch.nn.LSTM), [GRU](http://pytorch.org/docs/master/nn.html#torch.nn.GRU)\n",
        "\n",
        "\n",
        "### Implement a specific model\n",
        "In this section, you need to implement a model for sequence classification. The model has following layers:\n",
        "* A linear layer that can map features of 75-dimension to 100-dimension.\n",
        "* 1 Layer LSTM layer with hidden size of 100\n",
        "* A linear layer that goes from 100 to num_class (10). \n",
        "\n",
        "An LSTM layer takes an input of size of (batch_size, seq_len, fea_dim) and outputs a variable of shape (batch_size, seq_len, hidden_size). In this homework, the classification score for a sequence is the classification score for the last step of rnn_outputs.\n",
        "\n"
      ]
    },
    {
      "metadata": {
        "id": "iamI-2cV33jg",
        "colab_type": "code",
        "colab": {}
      },
      "cell_type": "code",
      "source": [
        "# sequence classification model\n",
        "class SequenceClassify(nn.Module):\n",
        "    def __init__(self):\n",
        "        super(SequenceClassify, self).__init__()\n",
        "        \n",
        "        ############## 1st To Do (10 points) ##############\n",
        "        ###################################################\n",
        "        \n",
        "        self.project_layer = nn.Linear(75, 100)\n",
        "        \n",
        "        self.recurrent_layer = nn.LSTM(100, 100, 1)\n",
        "        \n",
        "        self.classify_layer = nn.Linear(100, 10)\n",
        "        \n",
        "        ###################################################\n",
        "    \n",
        "    # the size of input is [batch_size, seq_len(15), input_dim(75)]\n",
        "    # the size of logits is [batch_size, num_class]\n",
        "    def forward(self, input, h_t_1=None, c_t_1=None):\n",
        "        # the size of rnn_outputs is [batch_size, seq_len, rnn_size]\n",
        "        rnn_outputs, (hn, cn) = self.recurrent_layer(self.project_layer(input))\n",
        "        # classify the last step of rnn_outpus\n",
        "        # the size of logits is [batch_size, num_class]\n",
        "        logits = self.classify_layer(rnn_outputs[:,-1])\n",
        "        return logits\n",
        "\n",
        "model = SequenceClassify()"
      ],
      "execution_count": 0,
      "outputs": []
    },
    {
      "metadata": {
        "id": "In1aOdFSlUDl",
        "colab_type": "code",
        "colab": {}
      },
      "cell_type": "code",
      "source": [
        "################ 2nd To Do  (5 points)##################\n",
        "lr = 1e-3\n",
        "optimizer = torch.optim.SGD(model.parameters(), lr = lr)\n",
        "criterion = torch.nn.CrossEntropyLoss()\n"
      ],
      "execution_count": 0,
      "outputs": []
    },
    {
      "metadata": {
        "id": "TyJHjlUQzErp",
        "colab_type": "text"
      },
      "cell_type": "markdown",
      "source": [
        "## Train the model\n",
        "After you have the dataloader and model, you can start training the model. Define a SGD optimizer with learning rate of 1e-3, and a cross-entropy loss function:"
      ]
    },
    {
      "metadata": {
        "id": "jcRPu4bSzErt",
        "colab_type": "code",
        "outputId": "ae11f502-6b8a-49ca-a50c-5edc53c98bf9",
        "colab": {
          "base_uri": "https://localhost:8080/",
          "height": 51
        }
      },
      "cell_type": "code",
      "source": [
        "# run the model for one epoch\n",
        "# can be used for both training or validation model\n",
        "def run_epoch(data_loader, model, criterion, epoch, is_training, optimizer=None):\n",
        "    if is_training:\n",
        "        model.train()\n",
        "        logger_prefix = 'train'\n",
        "    else:\n",
        "        model.eval()\n",
        "        logger_prefix = 'val'\n",
        "\n",
        "    confusion_matrix = tnt.meter.ConfusionMeter(num_class)\n",
        "    acc = tnt.meter.ClassErrorMeter(accuracy=True)\n",
        "    meter_loss = tnt.meter.AverageValueMeter()\n",
        "\n",
        "    for batch_idx, sample in enumerate(data_loader):\n",
        "        \n",
        "        sequence = sample['seq']\n",
        "        label = sample['label']\n",
        "        input_sequence_var = Variable(sequence).type(FloatTensor)\n",
        "        input_label_var = Variable(label).type(LongTensor)\n",
        "      \n",
        "        output_logits = model(input_sequence_var)\n",
        "        loss = criterion(output_logits, input_label_var)\n",
        "\n",
        "        if is_training:\n",
        "            optimizer.zero_grad()\n",
        "            loss.backward()\n",
        "            optimizer.step()\n",
        "\n",
        "        meter_loss.add(loss.data.item())\n",
        "        acc.add(output_logits.data, input_label_var.data)\n",
        "        confusion_matrix.add(output_logits.data, input_label_var.data)\n",
        "\n",
        "\n",
        "    print('%s Epoch: %d  , Loss: %.4f,  Accuracy: %.2f'%(logger_prefix, epoch, meter_loss.value()[0], acc.value()[0]))\n",
        "    return acc.value()[0]\n",
        "\n",
        "num_epochs = 1\n",
        "evaluate_every_epoch = 5\n",
        "for e in range(num_epochs):\n",
        "    run_epoch(trLD, model, criterion, e, True, optimizer)\n",
        "    if e % evaluate_every_epoch == 0:\n",
        "        run_epoch(valLD, model, criterion, e, False, None)   \n",
        "  \n"
      ],
      "execution_count": 6,
      "outputs": [
        {
          "output_type": "stream",
          "text": [
            "train Epoch: 0  , Loss: 2.3187,  Accuracy: 10.00\n",
            "val Epoch: 0  , Loss: 2.3228,  Accuracy: 9.50\n"
          ],
          "name": "stdout"
        }
      ]
    },
    {
      "metadata": {
        "id": "oyhRw1sizErv",
        "colab_type": "text"
      },
      "cell_type": "markdown",
      "source": [
        "## Submit your results on Kaggle\n",
        "\n",
        "### Train a better model for action recognition!\n",
        "Now it's your job to experiment with architectures, hyperparameters, loss functions, and optimizers to train a model that achieves better accuracy on the action recognition validation set.\n",
        "\n",
        "\n",
        "### Testing the model and submit on Kaggle\n",
        "Testing the model on the testing set and save the results as a .csv file. \n",
        "Please submitted the results.csv file generated by predict_on_test() to Kaggle(https://www.kaggle.com/t/934b80879bd741e6ac1967195604d4d9) to see how well your network performs on the test set. \n",
        "################ 3rd To Do  (20 points, the highest 3 entries get extra 10 points) ###############\n"
      ]
    },
    {
      "metadata": {
        "id": "KBtns-ClxiSH",
        "colab_type": "code",
        "colab": {}
      },
      "cell_type": "code",
      "source": [
        "class Flatten(nn.Module):\n",
        "    def forward(self, x):\n",
        "        N, C, H, W = x.size()\n",
        "        return x.view(N, -1)"
      ],
      "execution_count": 0,
      "outputs": []
    },
    {
      "metadata": {
        "id": "89sC9pQS2PLw",
        "colab_type": "code",
        "colab": {}
      },
      "cell_type": "code",
      "source": [
        "class KaggleSequenceClassify(nn.Module):\n",
        "    def __init__(self):\n",
        "        super(KaggleSequenceClassify, self).__init__()\n",
        "        self.conv_layer = nn.Sequential( \n",
        "            nn.Conv2d(1, 200, kernel_size=(3, 3), stride=1),\n",
        "            nn.MaxPool2d(2, 2),\n",
        "            nn.LeakyReLU(0.03),\n",
        "#           nn.LeakyReLU(0.06),\n",
        "            \n",
        "            nn.BatchNorm2d(200),\n",
        "            \n",
        "#             nn.LeakyReLU(0.06),\n",
        "#             nn.BatchNorm2d(200),\n",
        "            \n",
        "            nn.Conv2d(200, 100, 2, 1),\n",
        "#             nn.MaxPool2d(4, 4),\n",
        "            nn.MaxPool2d(2, 2),\n",
        "            nn.LeakyReLU(0.03),\n",
        "            nn.BatchNorm2d(100),\n",
        "            \n",
        "            Flatten(),\n",
        "            \n",
        "            nn.Linear(3400, 100)\n",
        "        )\n",
        "        \n",
        "        self.recurrent_layer = nn.LSTM(100, 100, 1)\n",
        "        self.classify_layer = nn.Linear(100, 10)\n",
        "        \n",
        "        \n",
        "    def forward(self, input, h_t_1=None, c_t_1=None):\n",
        "        rnn_outputs = self.conv_layer(input.view(50, 1, 15, 75))\n",
        "        rnn_outputs, (hn, cn) = self.recurrent_layer(rnn_outputs.view(50, 1, 100))        \n",
        "        logits = self.classify_layer(rnn_outputs[:,-1])\n",
        "        \n",
        "        return logits\n",
        "\n",
        "kaggle_model = KaggleSequenceClassify()\n",
        "optimizer = optim.Adam(kaggle_model.parameters(), lr = 1e-4)\n",
        "criterion = nn.CrossEntropyLoss()"
      ],
      "execution_count": 0,
      "outputs": []
    },
    {
      "metadata": {
        "id": "ysubcgbM2fv6",
        "colab_type": "code",
        "colab": {
          "base_uri": "https://localhost:8080/",
          "height": 1717
        },
        "outputId": "b0fce41f-1c1e-4230-bf15-5aca55016764"
      },
      "cell_type": "code",
      "source": [
        "num_epochs = 50\n",
        "evaluate_every_epoch = 1\n",
        "for e in range(num_epochs):\n",
        "    run_epoch(trLD, kaggle_model, criterion, e, True, optimizer)\n",
        "    if e % evaluate_every_epoch == 0:\n",
        "        run_epoch(valLD, kaggle_model, criterion, e, False, None) "
      ],
      "execution_count": 10,
      "outputs": [
        {
          "output_type": "stream",
          "text": [
            "train Epoch: 0  , Loss: 2.2761,  Accuracy: 16.35\n",
            "val Epoch: 0  , Loss: 2.2547,  Accuracy: 18.75\n",
            "train Epoch: 1  , Loss: 2.1608,  Accuracy: 29.70\n",
            "val Epoch: 1  , Loss: 2.0866,  Accuracy: 37.25\n",
            "train Epoch: 2  , Loss: 1.9305,  Accuracy: 43.90\n",
            "val Epoch: 2  , Loss: 1.7783,  Accuracy: 54.75\n",
            "train Epoch: 3  , Loss: 1.6169,  Accuracy: 56.95\n",
            "val Epoch: 3  , Loss: 1.4861,  Accuracy: 64.00\n",
            "train Epoch: 4  , Loss: 1.3561,  Accuracy: 64.60\n",
            "val Epoch: 4  , Loss: 1.2370,  Accuracy: 70.75\n",
            "train Epoch: 5  , Loss: 1.1939,  Accuracy: 67.50\n",
            "val Epoch: 5  , Loss: 1.1111,  Accuracy: 70.75\n",
            "train Epoch: 6  , Loss: 1.0826,  Accuracy: 71.15\n",
            "val Epoch: 6  , Loss: 1.0268,  Accuracy: 71.75\n",
            "train Epoch: 7  , Loss: 0.9909,  Accuracy: 73.30\n",
            "val Epoch: 7  , Loss: 0.9409,  Accuracy: 74.50\n",
            "train Epoch: 8  , Loss: 0.9237,  Accuracy: 74.65\n",
            "val Epoch: 8  , Loss: 0.8981,  Accuracy: 74.50\n",
            "train Epoch: 9  , Loss: 0.8706,  Accuracy: 76.65\n",
            "val Epoch: 9  , Loss: 0.8620,  Accuracy: 76.50\n",
            "train Epoch: 10  , Loss: 0.8328,  Accuracy: 76.50\n",
            "val Epoch: 10  , Loss: 0.8464,  Accuracy: 77.00\n",
            "train Epoch: 11  , Loss: 0.7893,  Accuracy: 77.65\n",
            "val Epoch: 11  , Loss: 0.7971,  Accuracy: 78.75\n",
            "train Epoch: 12  , Loss: 0.7577,  Accuracy: 78.90\n",
            "val Epoch: 12  , Loss: 0.7653,  Accuracy: 78.50\n",
            "train Epoch: 13  , Loss: 0.7298,  Accuracy: 79.60\n",
            "val Epoch: 13  , Loss: 0.7569,  Accuracy: 78.75\n",
            "train Epoch: 14  , Loss: 0.6899,  Accuracy: 81.35\n",
            "val Epoch: 14  , Loss: 0.7118,  Accuracy: 77.75\n",
            "train Epoch: 15  , Loss: 0.6706,  Accuracy: 81.80\n",
            "val Epoch: 15  , Loss: 0.6882,  Accuracy: 80.25\n",
            "train Epoch: 16  , Loss: 0.6407,  Accuracy: 82.35\n",
            "val Epoch: 16  , Loss: 0.6871,  Accuracy: 78.75\n",
            "train Epoch: 17  , Loss: 0.6189,  Accuracy: 82.35\n",
            "val Epoch: 17  , Loss: 0.6735,  Accuracy: 79.75\n",
            "train Epoch: 18  , Loss: 0.5917,  Accuracy: 83.90\n",
            "val Epoch: 18  , Loss: 0.6525,  Accuracy: 79.25\n",
            "train Epoch: 19  , Loss: 0.5826,  Accuracy: 83.75\n",
            "val Epoch: 19  , Loss: 0.6553,  Accuracy: 80.50\n",
            "train Epoch: 20  , Loss: 0.5491,  Accuracy: 85.30\n",
            "val Epoch: 20  , Loss: 0.6185,  Accuracy: 79.50\n",
            "train Epoch: 21  , Loss: 0.5277,  Accuracy: 85.65\n",
            "val Epoch: 21  , Loss: 0.6276,  Accuracy: 79.00\n",
            "train Epoch: 22  , Loss: 0.5048,  Accuracy: 86.45\n",
            "val Epoch: 22  , Loss: 0.6133,  Accuracy: 81.25\n",
            "train Epoch: 23  , Loss: 0.4865,  Accuracy: 87.05\n",
            "val Epoch: 23  , Loss: 0.5903,  Accuracy: 80.75\n",
            "train Epoch: 24  , Loss: 0.4663,  Accuracy: 87.95\n",
            "val Epoch: 24  , Loss: 0.5774,  Accuracy: 80.50\n",
            "train Epoch: 25  , Loss: 0.4489,  Accuracy: 88.30\n",
            "val Epoch: 25  , Loss: 0.5670,  Accuracy: 81.50\n",
            "train Epoch: 26  , Loss: 0.4426,  Accuracy: 87.75\n",
            "val Epoch: 26  , Loss: 0.6451,  Accuracy: 78.75\n",
            "train Epoch: 27  , Loss: 0.4219,  Accuracy: 88.75\n",
            "val Epoch: 27  , Loss: 0.5652,  Accuracy: 81.50\n",
            "train Epoch: 28  , Loss: 0.4097,  Accuracy: 89.80\n",
            "val Epoch: 28  , Loss: 0.5667,  Accuracy: 82.50\n",
            "train Epoch: 29  , Loss: 0.3976,  Accuracy: 89.65\n",
            "val Epoch: 29  , Loss: 0.5385,  Accuracy: 81.25\n",
            "train Epoch: 30  , Loss: 0.3714,  Accuracy: 90.85\n",
            "val Epoch: 30  , Loss: 0.5216,  Accuracy: 81.75\n",
            "train Epoch: 31  , Loss: 0.3590,  Accuracy: 91.05\n",
            "val Epoch: 31  , Loss: 0.5234,  Accuracy: 82.25\n",
            "train Epoch: 32  , Loss: 0.3393,  Accuracy: 92.00\n",
            "val Epoch: 32  , Loss: 0.5150,  Accuracy: 84.00\n",
            "train Epoch: 33  , Loss: 0.3260,  Accuracy: 92.10\n",
            "val Epoch: 33  , Loss: 0.5081,  Accuracy: 81.50\n",
            "train Epoch: 34  , Loss: 0.3134,  Accuracy: 92.45\n",
            "val Epoch: 34  , Loss: 0.5038,  Accuracy: 83.00\n",
            "train Epoch: 35  , Loss: 0.2959,  Accuracy: 93.55\n",
            "val Epoch: 35  , Loss: 0.4954,  Accuracy: 83.25\n",
            "train Epoch: 36  , Loss: 0.2871,  Accuracy: 93.60\n",
            "val Epoch: 36  , Loss: 0.5140,  Accuracy: 82.25\n",
            "train Epoch: 37  , Loss: 0.2750,  Accuracy: 93.70\n",
            "val Epoch: 37  , Loss: 0.4987,  Accuracy: 82.50\n",
            "train Epoch: 38  , Loss: 0.2676,  Accuracy: 94.20\n",
            "val Epoch: 38  , Loss: 0.5022,  Accuracy: 83.00\n",
            "train Epoch: 39  , Loss: 0.2648,  Accuracy: 93.95\n",
            "val Epoch: 39  , Loss: 0.4984,  Accuracy: 83.00\n",
            "train Epoch: 40  , Loss: 0.2578,  Accuracy: 93.70\n",
            "val Epoch: 40  , Loss: 0.4769,  Accuracy: 83.25\n",
            "train Epoch: 41  , Loss: 0.2410,  Accuracy: 95.00\n",
            "val Epoch: 41  , Loss: 0.4883,  Accuracy: 82.25\n",
            "train Epoch: 42  , Loss: 0.2288,  Accuracy: 94.85\n",
            "val Epoch: 42  , Loss: 0.4761,  Accuracy: 82.75\n",
            "train Epoch: 43  , Loss: 0.2145,  Accuracy: 96.25\n",
            "val Epoch: 43  , Loss: 0.4813,  Accuracy: 82.25\n",
            "train Epoch: 44  , Loss: 0.2112,  Accuracy: 96.00\n",
            "val Epoch: 44  , Loss: 0.4806,  Accuracy: 84.00\n",
            "train Epoch: 45  , Loss: 0.2034,  Accuracy: 96.05\n",
            "val Epoch: 45  , Loss: 0.4788,  Accuracy: 83.00\n",
            "train Epoch: 46  , Loss: 0.1912,  Accuracy: 96.50\n",
            "val Epoch: 46  , Loss: 0.4533,  Accuracy: 83.50\n",
            "train Epoch: 47  , Loss: 0.1858,  Accuracy: 96.60\n",
            "val Epoch: 47  , Loss: 0.4824,  Accuracy: 83.25\n",
            "train Epoch: 48  , Loss: 0.1790,  Accuracy: 96.55\n",
            "val Epoch: 48  , Loss: 0.4680,  Accuracy: 84.00\n",
            "train Epoch: 49  , Loss: 0.1645,  Accuracy: 97.40\n",
            "val Epoch: 49  , Loss: 0.4696,  Accuracy: 83.75\n"
          ],
          "name": "stdout"
        }
      ]
    },
    {
      "metadata": {
        "id": "6b4E1aVEzErw",
        "colab_type": "code",
        "outputId": "845ce75c-96ee-48e9-97c5-6abe89042296",
        "colab": {
          "base_uri": "https://localhost:8080/",
          "height": 34
        }
      },
      "cell_type": "code",
      "source": [
        "# Use your best model to generate results on test set.\n",
        "\n",
        "# generate csv file for test set\n",
        "def predict_on_test(model, data_loader):\n",
        "    model.eval() # Put the model in test mode (the opposite of model.train(), essentially)\n",
        "    results=open('/content/gdrive/My Drive/results.csv','w+')\n",
        "    count=0\n",
        "    results.write('Id'+','+'Class'+'\\n')\n",
        "    for batch_idx, sample in enumerate(data_loader):\n",
        "        sequence = sample['seq']\n",
        "        input_sequence_var = Variable(sequence).type(FloatTensor)\n",
        "        scores = model(input_sequence_var)\n",
        "        _, preds = scores.data.max(1)\n",
        "        for i in range(len(preds)):\n",
        "            results.write(str(count)+','+str(preds[i])+'\\n')\n",
        "            count+=1\n",
        "    results.close()\n",
        "    return count\n",
        "\n",
        "count=predict_on_test(kaggle_model, tstLD)\n",
        "print(count)"
      ],
      "execution_count": 11,
      "outputs": [
        {
          "output_type": "stream",
          "text": [
            "1000\n"
          ],
          "name": "stdout"
        }
      ]
    },
    {
      "metadata": {
        "id": "urorE6JWzEr2",
        "colab_type": "text"
      },
      "cell_type": "markdown",
      "source": [
        "## Report the performance\n",
        "################ 4th To Do  (5 points)##################\n",
        "\n",
        "In this cell, you should write an explanation of what you did (network architecture, optimiziter, learning rate, epochs) and any visualizations or graphs that you make in the process of training and evaluating your network.\n",
        "\n",
        "Report your Kaggle Performance here:\n",
        "Kaggle Accuracy - 0.81400\n",
        "Kaggle Rank - 22\n",
        "\n",
        "Network Architecture\n",
        "\n",
        "Following are the layers in the model - \n",
        "1. (Conv2d - LeakyReLU - BatchNorm2d - Maxpool2d) * 2\n",
        "1. LSTM layer. \n",
        "2. The final layer is a fully connected layer.\n",
        "\n",
        "Optimizer: I have used Adam Optimizer which I found to be converging in 50 iterations as compared to SGD which converges in more than 200 iterations\n",
        "\n",
        "Learning Rate: I found learning rate of 1e-4 performing better than 1e-3.\n",
        "\n",
        "Epochs On using just a simple LSTM layer with Adam optimizer maximum accuracy reached was 45% accuracy. Finally my model converges with 97% accuracy in 50 iterations.\n",
        "\n",
        "Used CLDNN architecture (Convolutional Long Short Memory, Fully Connected Deep Neural Network) mentioned in the paper - https://static.googleusercontent.com/media/research.google.com/en//pubs/archive/43455.pdf. \n"
      ]
    },
    {
      "metadata": {
        "id": "xwnsBuq-zEr4",
        "colab_type": "text"
      },
      "cell_type": "markdown",
      "source": [
        ""
      ]
    }
  ]
}